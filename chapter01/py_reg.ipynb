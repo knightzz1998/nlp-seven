{
 "cells": [
  {
   "cell_type": "markdown",
   "metadata": {
    "collapsed": true,
    "pycharm": {
     "name": "#%% md\n"
    }
   },
   "source": [
    "### 1. Python 正则表达式"
   ]
  },
  {
   "cell_type": "markdown",
   "metadata": {
    "pycharm": {
     "name": "#%% md\n"
    }
   },
   "source": [
    "#### 1.1 正则表达式语法\n",
    "\n",
    "![](https://haloos.oss-cn-beijing.aliyuncs.com/typero/20210911143543.png)"
   ]
  },
  {
   "cell_type": "markdown",
   "metadata": {
    "pycharm": {
     "name": "#%% md\n"
    }
   },
   "source": [
    "#### 1.2 正则表达式工具\n",
    "\n",
    "- [在线验证工具](http://regexr.com/)\n",
    "- [正则练习工具](https://alf.nu/RegexGolf)"
   ]
  },
  {
   "cell_type": "markdown",
   "metadata": {
    "pycharm": {
     "name": "#%% md\n"
    }
   },
   "source": [
    "### 2. Python案例\n",
    "- Re 模块\n",
    "- 使用re的一般步骤是\n",
    "    1. 将正则表达式的字符串形式编译为 Pattern 实例\n",
    "    2. 使用 Pattern 实例处理文本并获得匹配结果（一个 Match 实例）\n",
    "    3. 使用 Match 实例获得信息，进行其他的操作。"
   ]
  },
  {
   "cell_type": "code",
   "execution_count": 6,
   "metadata": {
    "pycharm": {
     "name": "#%%\n"
    }
   },
   "outputs": [
    {
     "name": "stdout",
     "output_type": "stream",
     "text": [
      "hello, hanxiaoyang! How are you?\n"
     ]
    }
   ],
   "source": [
    "# encoding: UTF-8\n",
    "import re\n",
    "\n",
    "rule = r'hello.*\\!' # 正则表达式规则 : 匹配 hello 开头, ! 结尾的字符串\n",
    "\n",
    "# 将正则表达式编译成 Pattern 对象\n",
    "pattern = re.compile(rule)\n",
    "\n",
    "# 使用Pattern匹配文本，获得匹配结果，无法匹配时将返回None\n",
    "match = pattern.match('hello, hanxiaoyang! How are you?')\n",
    "\n",
    "if match:\n",
    "    # 使用Match获得分组信息\n",
    "    print(match.group())"
   ]
  },
  {
   "cell_type": "markdown",
   "metadata": {
    "pycharm": {
     "name": "#%% md\n"
    }
   },
   "source": [
    "#### 2.1 re.compile\n",
    "\n",
    "- re.compile(strPattern[, flag]):\n",
    "- 这个方法是 Pattern 类的工厂方法，用于将字符串形式的正则表达式编译为 Pattern 对象。\n",
    "- 第二个参数 flag 是匹配模式，取值可以使用按位或运算符'|'表示同时生效，比如 re.I | re.M。\n",
    "- 也可以在 regex 字符串中指定模式，比如 re.compile('pattern', re.I | re.M) 等价于 re.compile('(?im)pattern')\n",
    "- flag 可选值有:\n",
    "    1. re.I(re.IGNORECASE): 忽略大小写（括号内是完整写法，下同）\n",
    "    2. re.M(MULTILINE): 多行模式，改变'^'和'$'的行为（参见上图）\n",
    "    3. re.S(DOTALL): 点任意匹配模式，改变'.'的行为\n",
    "    4. re.L(LOCALE): 使预定字符类 \\w \\W \\b \\B \\s \\S 取决于当前区域设定\n",
    "    5. re.U(UNICODE): 使预定字符类 \\w \\W \\b \\B \\s \\S \\d \\D 取决于unicode定义的字符属性\n",
    "    6. re.X(VERBOSE): 详细模式。这个模式下正则表达式可以是多行，忽略空白字符，并可以加入注释。以下两个正则表达式是等价的："
   ]
  },
  {
   "cell_type": "code",
   "execution_count": 8,
   "metadata": {
    "pycharm": {
     "name": "#%%\n"
    }
   },
   "outputs": [
    {
     "data": {
      "text/plain": [
       "(re.compile(r'\\d +  # 数字部分\\n                         \\.    # 小数点部分\\n                         \\d *  # 小数的数字部分',\n",
       " re.UNICODE|re.VERBOSE),\n",
       " re.compile(r'\\d+\\.\\d*', re.UNICODE))"
      ]
     },
     "execution_count": 8,
     "metadata": {},
     "output_type": "execute_result"
    }
   ],
   "source": [
    "regex_1 = re.compile(r\"\"\"\\d +  # 数字部分\n",
    "                         \\.    # 小数点部分\n",
    "                         \\d *  # 小数的数字部分\"\"\", re.X)\n",
    "regex_2 = re.compile(r\"\\d+\\.\\d*\")\n",
    "regex_1, regex_2"
   ]
  },
  {
   "cell_type": "markdown",
   "metadata": {
    "pycharm": {
     "name": "#%% md\n"
    }
   },
   "source": [
    "#### 2.2 Match\n",
    "\n",
    "- Match对象是一次匹配的结果，包含了很多关于此次匹配的信息，可以使用Match提供的可读属性或方法来获取这些信息。\n",
    "\n",
    "- match属性：\n",
    "    1. string: 匹配时使用的文本。\n",
    "    2. re: 匹配时使用的Pattern对象。\n",
    "    3. pos: 文本中正则表达式开始搜索的索引。值与Pattern.match()和Pattern.seach()方法的同名参数相同。\n",
    "    4. endpos: 文本中正则表达式结束搜索的索引。值与Pattern.match()和Pattern.seach()方法的同名参数相同。\n",
    "    5. lastindex: 最后一个被捕获的分组在文本中的索引。如果没有被捕获的分组，将为None。\n",
    "    6. lastgroup: 最后一个被捕获的分组的别名。如果这个分组没有别名或者没有被捕获的分组，将为None。\n",
    "- 方法：\n",
    "    1. group([group1, …]):\n",
    "        获得一个或多个分组截获的字符串；指定多个参数时将以元组形式返回。group1可以使用编号也可以使用别名；编号0代表整个匹配的子串；\n",
    "        不填写参数时，返回group(0)；没有截获字符串的组返回None；截获了多次的组返回最后一次截获的子串。\n",
    "    2. groups([default]):\n",
    "        以元组形式返回全部分组截获的字符串。相当于调用group(1,2,…last)。default表示没有截获字符串的组以这个值替代，默认为None。\n",
    "    3. groupdict([default]):\n",
    "        返回以有别名的组的别名为键、以该组截获的子串为值的字典，没有别名的组不包含在内。default含义同上。\n",
    "    4. start([group]):\n",
    "        返回指定的组截获的子串在string中的起始索引（子串第一个字符的索引）。group默认值为0。\n",
    "    5. end([group]):\n",
    "        返回指定的组截获的子串在string中的结束索引（子串最后一个字符的索引+1）。group默认值为0。\n",
    "    6. span([group]):\n",
    "        返回(start(group), end(group))。\n",
    "    7. expand(template):\n",
    "        将匹配到的分组代入template中然后返回。template中可以使用\\id或\\g、\\g引用分组，但不能使用编号0。\\id与\\g是等价的；但\\10将被认为是第10个分组，如果你想表达\\1之后是字符'0'，只能使用\\g<1>0。"
   ]
  },
  {
   "cell_type": "code",
   "execution_count": 26,
   "metadata": {
    "pycharm": {
     "name": "#%%\n"
    }
   },
   "outputs": [
    {
     "name": "stdout",
     "output_type": "stream",
     "text": [
      "匹配时使用的文本 :  hello ni hao ya!\n",
      "匹配时使用的Pattern对象 :  re.compile('(\\\\w+) (\\\\w+) (?P<sign>.*)')\n",
      "文本中正则表达式开始搜索的索引 :  0\n",
      "文本中正则表达式结束搜索的索引 :  16\n",
      "最后一个被捕获的分组在文本中的索引 :  3\n",
      "最后一个被捕获的分组的别名 :  sign\n",
      "m.group(1, 2) :  ('hello', 'ni')\n",
      "m.groups() :  ('hello', 'ni', 'hao ya!')\n",
      "m.groupdict() :  {'sign': 'hao ya!'}\n",
      "m.start(2) :  6\n",
      "m.end(2) :  8\n",
      "m.span(2) :  (6, 8)\n",
      "ni hello hao ya!\n"
     ]
    }
   ],
   "source": [
    "import re\n",
    "\n",
    "# \\w : 表示单词字符 : [a-z0-9]\n",
    "rule = '(\\w+) (\\w+) (?P<sign>.*)'\n",
    "\n",
    "m = re.match(rule, 'hello ni hao ya!')\n",
    "\n",
    "print(\"匹配时使用的文本 : \", m.string)\n",
    "print(\"匹配时使用的Pattern对象 : \", m.re)\n",
    "print(\"文本中正则表达式开始搜索的索引 : \", m.pos)\n",
    "print(\"文本中正则表达式结束搜索的索引 : \", m.endpos)\n",
    "print(\"最后一个被捕获的分组在文本中的索引 : \", m.lastindex)\n",
    "print(\"最后一个被捕获的分组的别名 : \", m.lastgroup)\n",
    "\n",
    "print(\"m.group(1, 2) : \", m.group(1, 2))\n",
    "print(\"m.groups() : \", m.groups())\n",
    "print(\"m.groupdict() : \", m.groupdict())\n",
    "print(\"m.start(2) : \", m.start(2))\n",
    "print(\"m.end(2) : \", m.end(2))\n",
    "print(\"m.span(2) : \", m.span(2))\n",
    "print(m.expand(r'\\2 \\1 \\3'))"
   ]
  },
  {
   "cell_type": "markdown",
   "metadata": {
    "pycharm": {
     "name": "#%% md\n"
    }
   },
   "source": [
    "#### 2.3 Pattern\n",
    "\n",
    "- Pattern 对象是一个编译好的正则表达式，通过 Pattern 提供的一系列方法可以对文本进行匹配查找。\n",
    "- Pattern 不能直接实例化，必须使用 re.compile() 进行构造。\n",
    "- Pattern 提供了几个可读属性用于获取表达式的相关信息:\n",
    "    1. pattern: 编译时用的表达式字符串。\n",
    "    2. flags: 编译时用的匹配模式。数字形式。\n",
    "    3. groups: 表达式中分组的数量。\n",
    "    4. groupindex: 以表达式中有别名的组的别名为键、以该组对应的编号为值的字典，没有别名的组不包含在内。"
   ]
  },
  {
   "cell_type": "code",
   "execution_count": 29,
   "metadata": {
    "pycharm": {
     "name": "#%%\n"
    }
   },
   "outputs": [
    {
     "name": "stdout",
     "output_type": "stream",
     "text": [
      "编译时用的表达式字符串:  (\\w+) (\\w+)(?P<sign>.*)\n",
      "编译时用的匹配模式。数字形式:  48\n",
      "表达式中分组的数量:  3\n",
      "p.groups:  {'sign': 3}\n"
     ]
    }
   ],
   "source": [
    "import re\n",
    "\n",
    "rule = '(\\w+) (\\w+)(?P<sign>.*)' # r'' 是为了防止字符转义\n",
    "p = re.compile(rule, re.DOTALL) # re.S(DOTALL): 点任意匹配模式，改变'.'的行为\n",
    "\n",
    "print(\"编译时用的表达式字符串: \" , p.pattern)\n",
    "print(\"编译时用的匹配模式。数字形式: \" , p.flags)\n",
    "print(\"表达式中分组的数量: \" , p.groups)\n",
    "print(\"p.groups: \" , p.groupindex)"
   ]
  },
  {
   "cell_type": "markdown",
   "metadata": {
    "pycharm": {
     "name": "#%% md\n"
    }
   },
   "source": [
    "#### 2.4 使用Pattern\n",
    "\n",
    "- match(string[, pos[, endpos]]) | re.match(pattern, string[, flags]):\n",
    "    这个方法将从 string 的 pos 下标处起尝试匹配 pattern:\n",
    "    1. 如果 pattern 结束时仍可匹配，则返回一个Match对象\n",
    "    2. 如果匹配过程中 pattern 无法匹配，或者匹配未结束就已到达 endpos，则返回 None。\n",
    "    3. pos 和 endpos 的默认值分别为 0 和 len(string)。\n",
    "    4. 注意：这个方法并不是完全匹配。当 pattern 结束时若 string 还有剩余字符，仍然视为成功。想要完全匹配，可以在表达式末尾加上边界匹配符'$'。\n",
    "- search(string[, pos[, endpos]]) | re.search(pattern, string[, flags]):\n",
    "    1. 这个方法从 string 的 pos 下标处起尝试匹配 pattern\n",
    "    2. 如果 pattern 结束时仍可匹配，则返回一个 Match 对象\n",
    "    3. 若无法匹配，则将 pos 加1后重新尝试匹配，直到 pos=endpos 时仍无法匹配则返回 None。\n",
    "    4. pos 和 endpos 的默认值分别为 0 和 len(string))"
   ]
  },
  {
   "cell_type": "code",
   "execution_count": 40,
   "metadata": {
    "pycharm": {
     "name": "#%%\n"
    }
   },
   "outputs": [
    {
     "name": "stdout",
     "output_type": "stream",
     "text": [
      "Wangtianci\n"
     ]
    }
   ],
   "source": [
    "import re\n",
    "\n",
    "# 将正则表达式编译成 Pattern 对象\n",
    "rule = r'W.*i'\n",
    "pattern = re.compile(rule) # 匹配规则以 W 开头, i结尾, 中间可以是任意字符\n",
    "\n",
    "# 使用search()查找匹配的子串，不存在能匹配的子串时将返回None\n",
    "# 这个例子中使用match()无法成功匹配\n",
    "text = 'Hello, Wangtianci!'\n",
    "match = pattern.search(text)\n",
    "if match:\n",
    "    # 使用Match获得分组信息\n",
    "    print(match.group())"
   ]
  },
  {
   "cell_type": "markdown",
   "metadata": {
    "pycharm": {
     "name": "#%% md\n"
    }
   },
   "source": [
    "- split(string[, maxsplit]) | re.split(pattern, string[, maxsplit]):\n",
    "    1. 按照能够匹配的子串将string分割后返回列表。\n",
    "    2. maxsplit用于指定最大分割次数，不指定将全部分割。"
   ]
  },
  {
   "cell_type": "code",
   "execution_count": 43,
   "metadata": {
    "pycharm": {
     "name": "#%%\n"
    }
   },
   "outputs": [
    {
     "name": "stdout",
     "output_type": "stream",
     "text": [
      "['one', 'two', 'three', 'four', '']\n"
     ]
    }
   ],
   "source": [
    "import re\n",
    "\n",
    "rule = r'\\d+' # 表示 \\d : 0 ~ 9 == [0-9]\n",
    "p = re.compile(rule)\n",
    "print(p.split('one1two2three3four4'))"
   ]
  },
  {
   "cell_type": "markdown",
   "metadata": {
    "pycharm": {
     "name": "#%% md\n"
    }
   },
   "source": [
    "- findall(string[, pos[, endpos]]) | re.findall(pattern, string[, flags]):\n",
    "    1. 搜索string，以列表形式返回全部能匹配的子串。"
   ]
  },
  {
   "cell_type": "code",
   "execution_count": 44,
   "metadata": {
    "pycharm": {
     "name": "#%%\n"
    }
   },
   "outputs": [
    {
     "name": "stdout",
     "output_type": "stream",
     "text": [
      "['1', '2', '3', '4']\n"
     ]
    }
   ],
   "source": [
    "import re\n",
    "\n",
    "rule = r'\\d+' # 表示 \\d : 0 ~ 9 == [0-9]\n",
    "p = re.compile(rule)\n",
    "print(p.findall('one1two2three3four4'))"
   ]
  },
  {
   "cell_type": "markdown",
   "metadata": {
    "pycharm": {
     "name": "#%% md\n"
    }
   },
   "source": [
    "- finditer(string[, pos[, endpos]]) | re.finditer(pattern, string[, flags]):\n",
    "    1. 搜索string，返回一个顺序访问每一个匹配结果（Match对象）的迭代器。"
   ]
  },
  {
   "cell_type": "code",
   "execution_count": 56,
   "metadata": {
    "pycharm": {
     "name": "#%%\n"
    }
   },
   "outputs": [
    {
     "name": "stdout",
     "output_type": "stream",
     "text": [
      "aaa\n",
      "bbb\n",
      "ccc\n",
      "ddd\n"
     ]
    }
   ],
   "source": [
    "import re\n",
    "\n",
    "rule = r'[a-z]+' # 匹配字母的字符串\n",
    "text = 'aaa1bbb2ccc3ddd4'\n",
    "p = re.compile(rule)\n",
    "for m in p.finditer(text):\n",
    "    print(m.group())"
   ]
  },
  {
   "cell_type": "markdown",
   "metadata": {
    "pycharm": {
     "name": "#%% md\n"
    }
   },
   "source": [
    "- sub(repl, string[, count]) | re.sub(pattern, repl, string[, count]):\n",
    "    1. 使用repl替换string中每一个匹配的子串后返回替换后的字符串。\n",
    "    2. 当repl是一个字符串时，可以使用\\id或\\g、\\g引用分组，但不能使用编号0。\n",
    "    3. 当repl是一个方法时，这个方法应当只接受一个参数（Match对象），并返回一个字符串用于替换（返回的字符串中不能再引用分组）。\n",
    "        count用于指定最多替换次数，不指定时全部替换。"
   ]
  },
  {
   "cell_type": "code",
   "execution_count": 72,
   "metadata": {
    "pycharm": {
     "name": "#%%\n"
    }
   },
   "outputs": [
    {
     "name": "stdout",
     "output_type": "stream",
     "text": [
      "aaa,bbb,ccc,ddd\n",
      "<re.Match object; span=(3, 4), match='1'>\n",
      "<re.Match object; span=(7, 8), match='2'>\n",
      "<re.Match object; span=(11, 12), match='3'>\n",
      "aaa,bbb,ccc,ddd\n"
     ]
    }
   ],
   "source": [
    "rule = r'\\d+' # 匹配字母的字符串\n",
    "text = 'aaa1bbb2ccc3ddd'\n",
    "p = re.compile(rule)\n",
    "\n",
    "# repl : 字符串\n",
    "print(p.sub(',', text)) # 替换掉匹配的字符\n",
    "\n",
    "# repl : 方法\n",
    "def func(m):\n",
    "    # m  : <re.Match object; span=(3, 4), match='1'>\n",
    "    print(m)\n",
    "    # return m.group(0).title() + ' ' + m.group(1).title()\n",
    "    return ','\n",
    "\n",
    "print(p.sub(func, text))"
   ]
  },
  {
   "cell_type": "markdown",
   "metadata": {
    "pycharm": {
     "name": "#%% md\n"
    }
   },
   "source": [
    "- subn(repl, string[, count]) |re.sub(pattern, repl, string[, count]):\n",
    "    1. 返回 (sub(repl, string[, count]), 替换次数)。"
   ]
  },
  {
   "cell_type": "code",
   "execution_count": 73,
   "metadata": {
    "pycharm": {
     "name": "#%%\n"
    }
   },
   "outputs": [
    {
     "name": "stdout",
     "output_type": "stream",
     "text": [
      "('aaa,bbb,ccc,ddd', 3)\n"
     ]
    }
   ],
   "source": [
    "rule = r'\\d+' # 匹配字母的字符串\n",
    "text = 'aaa1bbb2ccc3ddd'\n",
    "p = re.compile(rule)\n",
    "\n",
    "# repl : 字符串\n",
    "print(p.subn(',', text)) # 返回替换次数"
   ]
  }
 ],
 "metadata": {
  "kernelspec": {
   "display_name": "Python 3 (ipykernel)",
   "language": "python",
   "name": "python3"
  },
  "language_info": {
   "codemirror_mode": {
    "name": "ipython",
    "version": 3
   },
   "file_extension": ".py",
   "mimetype": "text/x-python",
   "name": "python",
   "nbconvert_exporter": "python",
   "pygments_lexer": "ipython3",
   "version": "3.7.11"
  }
 },
 "nbformat": 4,
 "nbformat_minor": 1
}