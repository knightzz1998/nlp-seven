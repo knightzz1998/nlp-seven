{
 "cells": [
  {
   "cell_type": "markdown",
   "metadata": {
    "collapsed": true,
    "pycharm": {
     "name": "#%% md\n"
    }
   },
   "source": [
    "### 1. 字符串操作"
   ]
  },
  {
   "cell_type": "markdown",
   "metadata": {
    "pycharm": {
     "name": "#%% md\n"
    }
   },
   "source": [
    "#### 1.1 去空格和特殊符号\n",
    "- strip() 去除两端的空格\n",
    "- lstrip() 去除左边空格\n",
    "    1. lstrip(str) 去除左边以 str 开头的部分, 必须完全匹配\n",
    "- rstrip() 去除右边空格\n",
    "    1. rstrip(str) 去除右边以 str 结尾的部分, 必须完全匹配"
   ]
  },
  {
   "cell_type": "code",
   "execution_count": 11,
   "metadata": {
    "pycharm": {
     "name": "#%%\n"
    }
   },
   "outputs": [
    {
     "name": "stdout",
     "output_type": "stream",
     "text": [
      "|hello , world!|\n",
      "|world!|\n",
      " hello , world\n"
     ]
    }
   ],
   "source": [
    "s = ' hello , world!'\n",
    "\n",
    "print('|' + s.strip() + '|')\n",
    "print('|' + s.lstrip(' hello , ') + '|')  # 删除以  hello ,  开头的部分, 必须完全匹配, 否则无法删除\n",
    "print(s.rstrip('!'))  # 删除以 ! 结尾的部分, 必须完全匹配, 否则无法删除"
   ]
  },
  {
   "cell_type": "markdown",
   "metadata": {
    "pycharm": {
     "name": "#%% md\n"
    }
   },
   "source": [
    "#### 1.2 连接字符串"
   ]
  },
  {
   "cell_type": "code",
   "execution_count": 12,
   "metadata": {
    "pycharm": {
     "name": "#%%\n"
    }
   },
   "outputs": [
    {
     "name": "stdout",
     "output_type": "stream",
     "text": [
      "hello,world\n"
     ]
    }
   ],
   "source": [
    "str1 = 'hello,'\n",
    "str2 = 'world'\n",
    "str1 += str2\n",
    "print(str1)"
   ]
  },
  {
   "cell_type": "markdown",
   "metadata": {
    "pycharm": {
     "name": "#%% md\n"
    }
   },
   "source": [
    "#### 1.3 查找字符串\n",
    "- str1.index(target) 返回 target 在字符串中的下标\n",
    "    1. 如果没找到, 直接抛异常 : ValueError: substring not found"
   ]
  },
  {
   "cell_type": "code",
   "execution_count": 18,
   "metadata": {
    "pycharm": {
     "name": "#%%\n"
    }
   },
   "outputs": [
    {
     "name": "stdout",
     "output_type": "stream",
     "text": [
      "2\n"
     ]
    }
   ],
   "source": [
    "str1 = 'hello,world'\n",
    "target = 'llo'\n",
    "\n",
    "posIndex = str1.index(target)  # 如果没找到, 直接抛异常 : ValueError: substring not found\n",
    "print(posIndex)"
   ]
  },
  {
   "cell_type": "markdown",
   "metadata": {
    "pycharm": {
     "name": "#%% md\n"
    }
   },
   "source": [
    "#### 1.4 比较字符串\n",
    "- 需要导入 import operator as op\n",
    "- python3 不再使用 cmp\n",
    "- op.eq(str1, str2) 比较字符串是否相等"
   ]
  },
  {
   "cell_type": "code",
   "execution_count": 21,
   "metadata": {
    "pycharm": {
     "name": "#%%\n"
    }
   },
   "outputs": [
    {
     "name": "stdout",
     "output_type": "stream",
     "text": [
      "False\n",
      "False\n",
      "True\n"
     ]
    }
   ],
   "source": [
    "import operator as op  # python3 不再使用 cmp\n",
    "\n",
    "str1 = 'hellor'\n",
    "str2 = 'hello'\n",
    "print(op.eq(str1, str2))\n",
    "print(op.eq(str2, str1))\n",
    "print(op.eq(str1, str1))"
   ]
  },
  {
   "cell_type": "markdown",
   "metadata": {
    "pycharm": {
     "name": "#%% md\n"
    }
   },
   "source": [
    "#### 1.5 字符串中的大小写转换\n",
    "- str1.upper() 转换为大写\n",
    "- str2.lower() 转换为小写"
   ]
  },
  {
   "cell_type": "code",
   "execution_count": 23,
   "metadata": {
    "pycharm": {
     "name": "#%%\n"
    }
   },
   "outputs": [
    {
     "name": "stdout",
     "output_type": "stream",
     "text": [
      "ABCDEFG\n"
     ]
    }
   ],
   "source": [
    "str1 = 'ABCDefg'\n",
    "print(str1.upper())  # 转换为大写\n",
    "print(str2.lower())  # 转换为小写"
   ]
  },
  {
   "cell_type": "markdown",
   "metadata": {
    "pycharm": {
     "name": "#%% md\n"
    }
   },
   "source": [
    "#### 1.6 翻转字符串\n",
    "\n",
    "- python中，字符换是不可变，更改字符串不会修改字符串，而是创建一个新的字符串。\n",
    "- 字符串是可切片，切片字符串会以给定的增量从字符串中的一个点（向后或向前）向另一个点提供一个新字符串。它们在下标中采用切片表示法或切片对象：\n",
    "    1. string[start:stop:step] 下标通过在大括号中包含冒号来创建切片\n",
    "    2. str1[::-1] 反转字符串"
   ]
  },
  {
   "cell_type": "code",
   "execution_count": 25,
   "metadata": {
    "pycharm": {
     "name": "#%%\n"
    }
   },
   "outputs": [
    {
     "name": "stdout",
     "output_type": "stream",
     "text": [
      "fedcba\n"
     ]
    }
   ],
   "source": [
    "str1 = 'abcdef'\n",
    "print(str1[::-1])"
   ]
  },
  {
   "cell_type": "markdown",
   "metadata": {
    "pycharm": {
     "name": "#%% md\n"
    }
   },
   "source": [
    "#### 1.7 查找字符串\n",
    "- str1.find(target) 返回 target 在 字符串中的索引, 查找失败返回 -1"
   ]
  },
  {
   "cell_type": "code",
   "execution_count": 27,
   "metadata": {
    "pycharm": {
     "name": "#%%\n"
    }
   },
   "outputs": [
    {
     "name": "stdout",
     "output_type": "stream",
     "text": [
      "-1\n"
     ]
    }
   ],
   "source": [
    "str1 = 'abcdef'\n",
    "target = 'cde'\n",
    "\n",
    "print(str1.find(target))  # 返回 target 在 字符串中的索引, 查找失败返回 -1"
   ]
  },
  {
   "cell_type": "markdown",
   "metadata": {
    "pycharm": {
     "name": "#%% md\n"
    }
   },
   "source": [
    "#### 1.8 分割字符串"
   ]
  },
  {
   "cell_type": "code",
   "execution_count": 31,
   "metadata": {
    "pycharm": {
     "name": "#%%\n"
    }
   },
   "outputs": [
    {
     "name": "stdout",
     "output_type": "stream",
     "text": [
      "['ab', ' cde', ' fgh']\n"
     ]
    }
   ],
   "source": [
    "str1 = 'ab, cde, fgh'\n",
    "target = ','\n",
    "print(str1.split(target))"
   ]
  },
  {
   "cell_type": "markdown",
   "metadata": {
    "pycharm": {
     "name": "#%% md\n"
    }
   },
   "source": [
    "#### 1.9 统计词频\n",
    "- import re\n",
    "- from collections import Counter\n",
    "- result = re.findall('[a-zA-Z]', text) 使用正则获取字母\n",
    "- Counter(result)\n",
    "    1. 返回值为字典 {单词:词频} : Counter({'a': 3, 'b': 3, 'c': 3, 'e': 3, 'd': 2})\n",
    "    2. result 必须是列表\n",
    "    3. count.values() : 获取单词词频数 list\n",
    "    4. count.keys() : 获取单词 list\n",
    "    5. count.items() : 返回 k,v 迭代器"
   ]
  },
  {
   "cell_type": "code",
   "execution_count": 43,
   "metadata": {
    "pycharm": {
     "name": "#%%\n"
    }
   },
   "outputs": [
    {
     "data": {
      "text/plain": [
       "['e']"
      ]
     },
     "execution_count": 43,
     "metadata": {},
     "output_type": "execute_result"
    }
   ],
   "source": [
    "import re\n",
    "from collections import Counter\n",
    "\n",
    "text = 'aaabbbC CEEEE,EDdD!'\n",
    "# 将字符串转为小写\n",
    "text = text.lower()\n",
    "# 去掉字符串中的其他符号, 只获取字母\n",
    "result = re.findall('[a-zA-Z]', text) # 返回值为list\n",
    "count = Counter(result) # 返回值为字典 {单词:词频} : Counter({'a': 3, 'b': 3, 'c': 3, 'e': 3, 'd': 2})\n",
    "count_value = count.values() # 获取词频列表  dict_values([3, 3, 3, 3, 2]))\n",
    "max_value = max(count_value) # 获取最大的词频数 : 3\n",
    "max_list = [] # 存储最大词频数对应的 单词\n",
    "\n",
    "# 获取最大词频数对应的单词\n",
    "for k,v in count.items():\n",
    "    if v == max_value:\n",
    "        max_list.append(k)\n",
    "max_list = sorted(max_list)\n",
    "max_list"
   ]
  },
  {
   "cell_type": "markdown",
   "metadata": {
    "pycharm": {
     "name": "#%% md\n"
    }
   },
   "source": [
    "- 其他版本"
   ]
  },
  {
   "cell_type": "code",
   "execution_count": 49,
   "metadata": {
    "pycharm": {
     "name": "#%%\n"
    }
   },
   "outputs": [
    {
     "name": "stdout",
     "output_type": "stream",
     "text": [
      "<built-in method count of str object at 0x000002342E078850>\n"
     ]
    },
    {
     "data": {
      "text/plain": [
       "'e'"
      ]
     },
     "execution_count": 49,
     "metadata": {},
     "output_type": "execute_result"
    }
   ],
   "source": [
    "#version 2\n",
    "import string\n",
    "\n",
    "def get_max_value(text):\n",
    "    text = text.lower()\n",
    "    return max(string.ascii_lowercase, key=text.count)\n",
    "\n",
    "get_max_value(text)"
   ]
  },
  {
   "cell_type": "code",
   "execution_count": 47,
   "metadata": {
    "pycharm": {
     "name": "#%%\n"
    }
   },
   "outputs": [
    {
     "data": {
      "text/plain": [
       "'e'"
      ]
     },
     "execution_count": 47,
     "metadata": {},
     "output_type": "execute_result"
    }
   ],
   "source": [
    "#version 3\n",
    "from collections import Counter\n",
    "\n",
    "def get_max_value(text):\n",
    "    count = Counter([x for x in text.lower() if x.isalpha()])\n",
    "    m = max(count.values())\n",
    "    return sorted([x for (x, y) in count.items() if y == m])[0]\n",
    "\n",
    "get_max_value(text)"
   ]
  },
  {
   "cell_type": "markdown",
   "metadata": {
    "pycharm": {
     "name": "#%% md\n"
    }
   },
   "source": [
    "### 2. lambda 表达式\n",
    "- sum = lambda a,b: a+b\n",
    "    1. a,b 其实就是传递的两个参数\n",
    "    2. a+b是一个表达式\n",
    "    3. sum就是函数名"
   ]
  },
  {
   "cell_type": "code",
   "execution_count": 55,
   "metadata": {
    "pycharm": {
     "name": "#%%\n"
    }
   },
   "outputs": [
    {
     "data": {
      "text/plain": [
       "4"
      ]
     },
     "execution_count": 55,
     "metadata": {},
     "output_type": "execute_result"
    }
   ],
   "source": [
    "# 带入key函数中，各个元素返回布尔值，相当于[False, False, False, True, True, True]\n",
    "# key函数要求返回值为True，有多个符合的值，则挑选第一个。\n",
    "max(range(6), key = lambda x : x > 3) # 返回大于 3 的第一个值"
   ]
  },
  {
   "cell_type": "code",
   "execution_count": 53,
   "metadata": {
    "pycharm": {
     "name": "#%%\n"
    }
   },
   "outputs": [
    {
     "data": {
      "text/plain": [
       "5"
      ]
     },
     "execution_count": 53,
     "metadata": {},
     "output_type": "execute_result"
    }
   ],
   "source": [
    "# 带入key函数中, 各个元素返回自身的值, 最大的值为5, 返回5\n",
    "max([3,5,2,1,4,3,0], key = lambda x : x)"
   ]
  },
  {
   "cell_type": "code",
   "execution_count": 56,
   "metadata": {
    "pycharm": {
     "name": "#%%\n"
    }
   },
   "outputs": [
    {
     "data": {
      "text/plain": [
       "'ah'"
      ]
     },
     "execution_count": 56,
     "metadata": {},
     "output_type": "execute_result"
    }
   ],
   "source": [
    "# 带入key函数，各个字符串返回最后一个字符，其中'ah'的h要大于'bf'中的f，因此返回'ah'\n",
    "max('ah', 'bf', key=lambda x: x[1])"
   ]
  },
  {
   "cell_type": "code",
   "execution_count": 57,
   "metadata": {
    "pycharm": {
     "name": "#%%\n"
    }
   },
   "outputs": [
    {
     "data": {
      "text/plain": [
       "'bf'"
      ]
     },
     "execution_count": 57,
     "metadata": {},
     "output_type": "execute_result"
    }
   ],
   "source": [
    "# 带入key函数，各个字符串返回第一个字符, 其中'bf'的b要大于'ah'中的a, 因此返回'bf'\n",
    "max('ah', 'bf', key=lambda x: x[0])"
   ]
  },
  {
   "cell_type": "code",
   "execution_count": 58,
   "metadata": {
    "pycharm": {
     "name": "#%%\n"
    }
   },
   "outputs": [
    {
     "data": {
      "text/plain": [
       "'l'"
      ]
     },
     "execution_count": 58,
     "metadata": {},
     "output_type": "execute_result"
    }
   ],
   "source": [
    "# 带入key函数，返回各个字符在'Hello World'中出现的次数，出现次数最多的字符为'l',因此输出'l'\n",
    "text = 'Hello World'\n",
    "max('abcdefghijklmnopqrstuvwxyz', key=text.count)"
   ]
  }
 ],
 "metadata": {
  "kernelspec": {
   "display_name": "Python 3 (ipykernel)",
   "language": "python",
   "name": "python3"
  },
  "language_info": {
   "codemirror_mode": {
    "name": "ipython",
    "version": 3
   },
   "file_extension": ".py",
   "mimetype": "text/x-python",
   "name": "python",
   "nbconvert_exporter": "python",
   "pygments_lexer": "ipython3",
   "version": "3.7.11"
  }
 },
 "nbformat": 4,
 "nbformat_minor": 1
}